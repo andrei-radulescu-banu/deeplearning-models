{
  "cells": [
    {
      "cell_type": "markdown",
      "metadata": {
        "id": "view-in-github",
        "colab_type": "text"
      },
      "source": [
        "<a href=\"https://colab.research.google.com/github/andrei-radulescu-banu/deeplearning-models/blob/master/pytorch_ipynb/basic-ml/logistic-regression.ipynb\" target=\"_parent\"><img src=\"https://colab.research.google.com/assets/colab-badge.svg\" alt=\"Open In Colab\"/></a>"
      ]
    },
    {
      "cell_type": "code",
      "source": [
        "%pip install watermark"
      ],
      "metadata": {
        "id": "WRazdX7cP39U",
        "outputId": "f8e8046d-7157-4bcf-c19e-b56c8fa3ca82",
        "colab": {
          "base_uri": "https://localhost:8080/"
        }
      },
      "execution_count": 1,
      "outputs": [
        {
          "output_type": "stream",
          "name": "stdout",
          "text": [
            "Looking in indexes: https://pypi.org/simple, https://us-python.pkg.dev/colab-wheels/public/simple/\n",
            "Collecting watermark\n",
            "  Downloading watermark-2.3.1-py2.py3-none-any.whl (7.2 kB)\n",
            "Requirement already satisfied: ipython in /usr/local/lib/python3.7/dist-packages (from watermark) (7.9.0)\n",
            "Requirement already satisfied: importlib-metadata>=1.4 in /usr/local/lib/python3.7/dist-packages (from watermark) (4.13.0)\n",
            "Requirement already satisfied: zipp>=0.5 in /usr/local/lib/python3.7/dist-packages (from importlib-metadata>=1.4->watermark) (3.10.0)\n",
            "Requirement already satisfied: typing-extensions>=3.6.4 in /usr/local/lib/python3.7/dist-packages (from importlib-metadata>=1.4->watermark) (4.1.1)\n",
            "Requirement already satisfied: setuptools>=18.5 in /usr/local/lib/python3.7/dist-packages (from ipython->watermark) (57.4.0)\n",
            "Collecting jedi>=0.10\n",
            "  Downloading jedi-0.18.1-py2.py3-none-any.whl (1.6 MB)\n",
            "\u001b[K     |████████████████████████████████| 1.6 MB 4.8 MB/s \n",
            "\u001b[?25hRequirement already satisfied: pickleshare in /usr/local/lib/python3.7/dist-packages (from ipython->watermark) (0.7.5)\n",
            "Requirement already satisfied: traitlets>=4.2 in /usr/local/lib/python3.7/dist-packages (from ipython->watermark) (5.1.1)\n",
            "Requirement already satisfied: decorator in /usr/local/lib/python3.7/dist-packages (from ipython->watermark) (4.4.2)\n",
            "Requirement already satisfied: pygments in /usr/local/lib/python3.7/dist-packages (from ipython->watermark) (2.6.1)\n",
            "Requirement already satisfied: prompt-toolkit<2.1.0,>=2.0.0 in /usr/local/lib/python3.7/dist-packages (from ipython->watermark) (2.0.10)\n",
            "Requirement already satisfied: pexpect in /usr/local/lib/python3.7/dist-packages (from ipython->watermark) (4.8.0)\n",
            "Requirement already satisfied: backcall in /usr/local/lib/python3.7/dist-packages (from ipython->watermark) (0.2.0)\n",
            "Requirement already satisfied: parso<0.9.0,>=0.8.0 in /usr/local/lib/python3.7/dist-packages (from jedi>=0.10->ipython->watermark) (0.8.3)\n",
            "Requirement already satisfied: wcwidth in /usr/local/lib/python3.7/dist-packages (from prompt-toolkit<2.1.0,>=2.0.0->ipython->watermark) (0.2.5)\n",
            "Requirement already satisfied: six>=1.9.0 in /usr/local/lib/python3.7/dist-packages (from prompt-toolkit<2.1.0,>=2.0.0->ipython->watermark) (1.15.0)\n",
            "Requirement already satisfied: ptyprocess>=0.5 in /usr/local/lib/python3.7/dist-packages (from pexpect->ipython->watermark) (0.7.0)\n",
            "Installing collected packages: jedi, watermark\n",
            "Successfully installed jedi-0.18.1 watermark-2.3.1\n"
          ]
        }
      ]
    },
    {
      "cell_type": "markdown",
      "metadata": {
        "id": "Z2MXvKlYP1-n"
      },
      "source": [
        "Deep Learning Models -- A collection of various deep learning architectures, models, and tips for TensorFlow and PyTorch in Jupyter Notebooks.\n",
        "- Author: Sebastian Raschka\n",
        "- GitHub Repository: https://github.com/rasbt/deeplearning-models"
      ]
    },
    {
      "cell_type": "code",
      "execution_count": 2,
      "metadata": {
        "id": "zLbxtX-PP1-p",
        "outputId": "8a39130b-4327-4d8a-f3de-9352f172cb8c",
        "colab": {
          "base_uri": "https://localhost:8080/"
        }
      },
      "outputs": [
        {
          "output_type": "stream",
          "name": "stdout",
          "text": [
            "Author: Sebastian Raschka\n",
            "\n",
            "Python implementation: CPython\n",
            "Python version       : 3.7.15\n",
            "IPython version      : 7.9.0\n",
            "\n",
            "torch: 1.12.1+cu113\n",
            "\n"
          ]
        }
      ],
      "source": [
        "%load_ext watermark\n",
        "%watermark -a 'Sebastian Raschka' -v -p torch"
      ]
    },
    {
      "cell_type": "markdown",
      "metadata": {
        "id": "6pW8POTJP1-r"
      },
      "source": [
        "- Runs on CPU or GPU (if available)"
      ]
    },
    {
      "cell_type": "markdown",
      "metadata": {
        "id": "FQOE1TU0P1-s"
      },
      "source": [
        "# Model Zoo -- Logistic Regression"
      ]
    },
    {
      "cell_type": "markdown",
      "metadata": {
        "id": "W_l1R6yGP1-t"
      },
      "source": [
        "Implementation of *classic* logistic regression for binary class labels."
      ]
    },
    {
      "cell_type": "markdown",
      "metadata": {
        "id": "0hHAxgpDP1-t"
      },
      "source": [
        "## Imports"
      ]
    },
    {
      "cell_type": "code",
      "execution_count": 3,
      "metadata": {
        "id": "jyJ7dSSWP1-u"
      },
      "outputs": [],
      "source": [
        "%matplotlib inline\n",
        "import matplotlib.pyplot as plt\n",
        "import numpy as np\n",
        "from io import BytesIO\n",
        "\n",
        "import torch\n",
        "import torch.nn.functional as F"
      ]
    },
    {
      "cell_type": "markdown",
      "metadata": {
        "id": "4rVFyuVUP1-w"
      },
      "source": [
        "## Preparing a toy dataset"
      ]
    },
    {
      "cell_type": "code",
      "execution_count": 4,
      "metadata": {
        "id": "3P3Ti_O7P1-x",
        "outputId": "1de82452-0fc8-44a1-a92d-956aa9257afe",
        "colab": {
          "base_uri": "https://localhost:8080/",
          "height": 184
        }
      },
      "outputs": [
        {
          "output_type": "display_data",
          "data": {
            "text/plain": [
              "<Figure size 504x180 with 2 Axes>"
            ],
            "image/png": "[encoded data removed]"
          },
          "metadata": {
            "needs_background": "light"
          }
        }
      ],
      "source": [
        "##########################\n",
        "### DATASET\n",
        "##########################\n",
        "\n",
        "ds = np.lib.DataSource()\n",
        "fp = ds.open('http://archive.ics.uci.edu/ml/machine-learning-databases/iris/iris.data')\n",
        "\n",
        "x = np.genfromtxt(BytesIO(fp.read().encode()), delimiter=',', usecols=range(2), max_rows=100)\n",
        "y = np.zeros(100)\n",
        "y[50:] = 1\n",
        "\n",
        "np.random.seed(1)\n",
        "idx = np.arange(y.shape[0])\n",
        "np.random.shuffle(idx)\n",
        "X_test, y_test = x[idx[:25]], y[idx[:25]]\n",
        "X_train, y_train = x[idx[25:]], y[idx[25:]]\n",
        "mu, std = np.mean(X_train, axis=0), np.std(X_train, axis=0)\n",
        "X_train, X_test = (X_train - mu) / std, (X_test - mu) / std\n",
        "\n",
        "fig, ax = plt.subplots(1, 2, figsize=(7, 2.5))\n",
        "ax[0].scatter(X_train[y_train == 1, 0], X_train[y_train == 1, 1])\n",
        "ax[0].scatter(X_train[y_train == 0, 0], X_train[y_train == 0, 1])\n",
        "ax[1].scatter(X_test[y_test == 1, 0], X_test[y_test == 1, 1])\n",
        "ax[1].scatter(X_test[y_test == 0, 0], X_test[y_test == 0, 1])\n",
        "plt.show()"
      ]
    },
    {
      "cell_type": "markdown",
      "metadata": {
        "id": "gdoIW4xeP1-y"
      },
      "source": [
        "## Low-level implementation with manual gradients"
      ]
    },
    {
      "cell_type": "code",
      "execution_count": null,
      "metadata": {
        "id": "xNStV0jkP1-z"
      },
      "outputs": [],
      "source": [
        "device = torch.device(\"cuda:0\" if torch.cuda.is_available() else \"cpu\")\n",
        "\n",
        "\n",
        "def custom_where(cond, x_1, x_2):\n",
        "    return (cond * x_1) + ((1-cond) * x_2)\n",
        "\n",
        "\n",
        "class LogisticRegression1():\n",
        "    def __init__(self, num_features):\n",
        "        self.num_features = num_features\n",
        "        self.weights = torch.zeros(num_features, 1, \n",
        "                                   dtype=torch.float32, device=device)\n",
        "        self.bias = torch.zeros(1, dtype=torch.float32, device=device)\n",
        "\n",
        "    def forward(self, x):\n",
        "        linear = torch.add(torch.mm(x, self.weights), self.bias)\n",
        "        probas = self._sigmoid(linear)\n",
        "        return probas\n",
        "        \n",
        "    def backward(self, probas, y):  \n",
        "        errors = y - probas.view(-1)\n",
        "        return errors\n",
        "            \n",
        "    def predict_labels(self, x):\n",
        "        probas = self.forward(x)\n",
        "        labels = custom_where(probas >= .5, 1, 0)\n",
        "        return labels    \n",
        "            \n",
        "    def evaluate(self, x, y):\n",
        "        labels = self.predict_labels(x).float()\n",
        "        accuracy = torch.sum(labels.view(-1) == y) / y.size()[0]\n",
        "        return accuracy\n",
        "    \n",
        "    def _sigmoid(self, z):\n",
        "        return 1. / (1. + torch.exp(-z))\n",
        "    \n",
        "    def _logit_cost(self, y, proba):\n",
        "        tmp1 = torch.mm(-y.view(1, -1), torch.log(proba))\n",
        "        tmp2 = torch.mm((1 - y).view(1, -1), torch.log(1 - proba))\n",
        "        return tmp1 - tmp2\n",
        "    \n",
        "    def train(self, x, y, num_epochs, learning_rate=0.01):\n",
        "        for e in range(num_epochs):\n",
        "            \n",
        "            #### Compute outputs ####\n",
        "            probas = self.forward(x)\n",
        "            \n",
        "            #### Compute gradients ####\n",
        "            errors = self.backward(probas, y)\n",
        "            neg_grad = torch.mm(x.transpose(0, 1), errors.view(-1, 1))\n",
        "            \n",
        "            #### Update weights ####\n",
        "            self.weights += learning_rate * neg_grad\n",
        "            self.bias += learning_rate * torch.sum(errors)\n",
        "            \n",
        "            #### Logging ####\n",
        "            print('Epoch: %03d' % (e+1), end=\"\")\n",
        "            print(' | Train ACC: %.3f' % self.evaluate(x, y), end=\"\")\n",
        "            print(' | Cost: %.3f' % self._logit_cost(y, self.forward(x)))"
      ]
    },
    {
      "cell_type": "code",
      "execution_count": null,
      "metadata": {
        "id": "gm1LaMR5P1-0",
        "outputId": "a7e24aa1-8d55-4469-b76d-1fb5121b46b9"
      },
      "outputs": [
        {
          "name": "stdout",
          "output_type": "stream",
          "text": [
            "Epoch: 001 | Train ACC: 0.000 | Cost: 5.581\n",
            "Epoch: 002 | Train ACC: 0.000 | Cost: 4.882\n",
            "Epoch: 003 | Train ACC: 1.000 | Cost: 4.381\n",
            "Epoch: 004 | Train ACC: 1.000 | Cost: 3.998\n",
            "Epoch: 005 | Train ACC: 1.000 | Cost: 3.693\n",
            "Epoch: 006 | Train ACC: 1.000 | Cost: 3.443\n",
            "Epoch: 007 | Train ACC: 1.000 | Cost: 3.232\n",
            "Epoch: 008 | Train ACC: 1.000 | Cost: 3.052\n",
            "Epoch: 009 | Train ACC: 1.000 | Cost: 2.896\n",
            "Epoch: 010 | Train ACC: 1.000 | Cost: 2.758\n",
            "\n",
            "Model parameters:\n",
            "  Weights: tensor([[ 4.2267],\n",
            "        [-2.9613]], device='cuda:0')\n",
            "  Bias: tensor([0.0994], device='cuda:0')\n"
          ]
        }
      ],
      "source": [
        "X_train_tensor = torch.tensor(X_train, dtype=torch.float32, device=device)\n",
        "y_train_tensor = torch.tensor(y_train, dtype=torch.float32, device=device)\n",
        "\n",
        "logr = LogisticRegression1(num_features=2)\n",
        "logr.train(X_train_tensor, y_train_tensor, num_epochs=10, learning_rate=0.1)\n",
        "\n",
        "print('\\nModel parameters:')\n",
        "print('  Weights: %s' % logr.weights)\n",
        "print('  Bias: %s' % logr.bias)"
      ]
    },
    {
      "cell_type": "markdown",
      "metadata": {
        "id": "HzjIelfGP1-1"
      },
      "source": [
        "#### Evaluating the Model"
      ]
    },
    {
      "cell_type": "code",
      "execution_count": null,
      "metadata": {
        "id": "QZey9hSnP1-1",
        "outputId": "d199d94d-a774-4a0a-c865-146a5276fd14"
      },
      "outputs": [
        {
          "name": "stdout",
          "output_type": "stream",
          "text": [
            "Test set accuracy: 100.00%\n"
          ]
        }
      ],
      "source": [
        "X_test_tensor = torch.tensor(X_test, dtype=torch.float32, device=device)\n",
        "y_test_tensor = torch.tensor(y_test, dtype=torch.float32, device=device)\n",
        "\n",
        "test_acc = logr.evaluate(X_test_tensor, y_test_tensor)\n",
        "print('Test set accuracy: %.2f%%' % (test_acc*100))"
      ]
    },
    {
      "cell_type": "code",
      "execution_count": null,
      "metadata": {
        "id": "URXldwNIP1-2",
        "outputId": "2528a60d-3a28-4e56-a317-902483e17b35"
      },
      "outputs": [
        {
          "data": {
            "image/png": "[encoded data removed]",
            "text/plain": [
              "<Figure size 504x216 with 2 Axes>"
            ]
          },
          "metadata": {
            "needs_background": "light"
          },
          "output_type": "display_data"
        }
      ],
      "source": [
        "##########################\n",
        "### 2D Decision Boundary\n",
        "##########################\n",
        "\n",
        "w, b = logr.weights, logr.bias\n",
        "\n",
        "x_min = -2\n",
        "y_min = ( (-(w[0] * x_min) - b[0]) \n",
        "          / w[1] )\n",
        "\n",
        "x_max = 2\n",
        "y_max = ( (-(w[0] * x_max) - b[0]) \n",
        "          / w[1] )\n",
        "\n",
        "\n",
        "fig, ax = plt.subplots(1, 2, sharex=True, figsize=(7, 3))\n",
        "\n",
        "ax[0].plot([x_min, x_max], [y_min, y_max])\n",
        "ax[1].plot([x_min, x_max], [y_min, y_max])\n",
        "\n",
        "ax[0].scatter(X_train[y_train==0, 0], X_train[y_train==0, 1], label='class 0', marker='o')\n",
        "ax[0].scatter(X_train[y_train==1, 0], X_train[y_train==1, 1], label='class 1', marker='s')\n",
        "\n",
        "ax[1].scatter(X_test[y_test==0, 0], X_test[y_test==0, 1], label='class 0', marker='o')\n",
        "ax[1].scatter(X_test[y_test==1, 0], X_test[y_test==1, 1], label='class 1', marker='s')\n",
        "\n",
        "ax[1].legend(loc='upper left')\n",
        "plt.show()"
      ]
    },
    {
      "cell_type": "markdown",
      "metadata": {
        "id": "9Oe1KQ6hP1-2"
      },
      "source": [
        "## Low-level implementation using autograd"
      ]
    },
    {
      "cell_type": "code",
      "execution_count": null,
      "metadata": {
        "id": "UzOHkGVDP1-3"
      },
      "outputs": [],
      "source": [
        "def custom_where(cond, x_1, x_2):\n",
        "    return (cond * x_1) + ((1-cond) * x_2)\n",
        "\n",
        "\n",
        "class LogisticRegression2():\n",
        "    def __init__(self, num_features):\n",
        "        self.num_features = num_features\n",
        "        \n",
        "        self.weights = torch.zeros(num_features, 1, \n",
        "                                   dtype=torch.float32,\n",
        "                                   device=device,\n",
        "                                   requires_grad=True) # req. for autograd!\n",
        "        self.bias = torch.zeros(1, \n",
        "                                dtype=torch.float32,\n",
        "                                device=device,\n",
        "                                requires_grad=True) # req. for autograd!\n",
        "\n",
        "    def forward(self, x):\n",
        "        linear = torch.add(torch.mm(x, self.weights), self.bias)\n",
        "        probas = self._sigmoid(linear)\n",
        "        return probas\n",
        "                    \n",
        "    def predict_labels(self, x):\n",
        "        probas = self.forward(x)\n",
        "        labels = custom_where((probas >= .5).float(), 1, 0)\n",
        "        return labels    \n",
        "            \n",
        "    def evaluate(self, x, y):\n",
        "        labels = self.predict_labels(x)\n",
        "        accuracy = (torch.sum(labels.view(-1) == y.view(-1))).float() / y.size()[0]\n",
        "        return accuracy\n",
        "    \n",
        "    def _sigmoid(self, z):\n",
        "        return 1. / (1. + torch.exp(-z))\n",
        "    \n",
        "    def _logit_cost(self, y, proba):\n",
        "        tmp1 = torch.mm(-y.view(1, -1), torch.log(proba))\n",
        "        tmp2 = torch.mm((1 - y).view(1, -1), torch.log(1 - proba))\n",
        "        return tmp1 - tmp2\n",
        "    \n",
        "    def train(self, x, y, num_epochs, learning_rate=0.01):\n",
        "        \n",
        "        for e in range(num_epochs):\n",
        "            \n",
        "            #### Compute outputs ####\n",
        "            proba = self.forward(x)\n",
        "            cost = self._logit_cost(y, proba)\n",
        "            \n",
        "            #### Compute gradients ####\n",
        "            cost.backward()\n",
        "            \n",
        "            #### Update weights ####\n",
        "            \n",
        "            tmp = self.weights.detach()\n",
        "            tmp -= learning_rate * self.weights.grad\n",
        "            \n",
        "            tmp = self.bias.detach()\n",
        "            tmp -= learning_rate * self.bias.grad\n",
        "            \n",
        "            #### Reset gradients to zero for next iteration ####\n",
        "            self.weights.grad.zero_()\n",
        "            self.bias.grad.zero_()\n",
        "    \n",
        "            #### Logging ####\n",
        "            print('Epoch: %03d' % (e+1), end=\"\")\n",
        "            print(' | Train ACC: %.3f' % self.evaluate(x, y), end=\"\")\n",
        "            print(' | Cost: %.3f' % self._logit_cost(y, self.forward(x)))\n",
        "            \n"
      ]
    },
    {
      "cell_type": "code",
      "execution_count": null,
      "metadata": {
        "id": "Jby7BhCAP1-3",
        "outputId": "899969a7-f951-4e63-c70d-5aff83647ee0"
      },
      "outputs": [
        {
          "name": "stdout",
          "output_type": "stream",
          "text": [
            "Epoch: 001 | Train ACC: 0.987 | Cost: 5.581\n",
            "Epoch: 002 | Train ACC: 0.987 | Cost: 4.882\n",
            "Epoch: 003 | Train ACC: 1.000 | Cost: 4.381\n",
            "Epoch: 004 | Train ACC: 1.000 | Cost: 3.998\n",
            "Epoch: 005 | Train ACC: 1.000 | Cost: 3.693\n",
            "Epoch: 006 | Train ACC: 1.000 | Cost: 3.443\n",
            "Epoch: 007 | Train ACC: 1.000 | Cost: 3.232\n",
            "Epoch: 008 | Train ACC: 1.000 | Cost: 3.052\n",
            "Epoch: 009 | Train ACC: 1.000 | Cost: 2.896\n",
            "Epoch: 010 | Train ACC: 1.000 | Cost: 2.758\n",
            "\n",
            "Model parameters:\n",
            "  Weights: tensor([[ 4.2267],\n",
            "        [-2.9613]], device='cuda:0', requires_grad=True)\n",
            "  Bias: tensor([0.0994], device='cuda:0', requires_grad=True)\n"
          ]
        }
      ],
      "source": [
        "X_train_tensor = torch.tensor(X_train, dtype=torch.float32, device=device)\n",
        "y_train_tensor = torch.tensor(y_train, dtype=torch.float32, device=device)\n",
        "\n",
        "logr = LogisticRegression2(num_features=2)\n",
        "logr.train(X_train_tensor, y_train_tensor, num_epochs=10, learning_rate=0.1)\n",
        "\n",
        "print('\\nModel parameters:')\n",
        "print('  Weights: %s' % logr.weights)\n",
        "print('  Bias: %s' % logr.bias)"
      ]
    },
    {
      "cell_type": "markdown",
      "metadata": {
        "id": "MyCgU9zDP1-3"
      },
      "source": [
        "#### Evaluating the Model"
      ]
    },
    {
      "cell_type": "code",
      "execution_count": null,
      "metadata": {
        "id": "l8fsVYJZP1-4",
        "outputId": "6248ea2d-5559-4384-cd54-b0433f3e2e05"
      },
      "outputs": [
        {
          "name": "stdout",
          "output_type": "stream",
          "text": [
            "Test set accuracy: 100.00%\n"
          ]
        }
      ],
      "source": [
        "X_test_tensor = torch.tensor(X_test, dtype=torch.float32, device=device)\n",
        "y_test_tensor = torch.tensor(y_test, dtype=torch.float32, device=device)\n",
        "\n",
        "test_acc = logr.evaluate(X_test_tensor, y_test_tensor)\n",
        "print('Test set accuracy: %.2f%%' % (test_acc*100))"
      ]
    },
    {
      "cell_type": "code",
      "execution_count": null,
      "metadata": {
        "id": "ZKWUWkd-P1-4",
        "outputId": "8dc5e93a-1061-45a7-a0e6-5a76a7a69f06"
      },
      "outputs": [
        {
          "data": {
            "image/png": "[encoded data removed]",
            "text/plain": [
              "<Figure size 504x216 with 2 Axes>"
            ]
          },
          "metadata": {
            "needs_background": "light"
          },
          "output_type": "display_data"
        }
      ],
      "source": [
        "##########################\n",
        "### 2D Decision Boundary\n",
        "##########################\n",
        "\n",
        "w, b = logr.weights, logr.bias\n",
        "\n",
        "x_min = -2\n",
        "y_min = ( (-(w[0] * x_min) - b[0]) \n",
        "          / w[1] )\n",
        "\n",
        "x_max = 2\n",
        "y_max = ( (-(w[0] * x_max) - b[0]) \n",
        "          / w[1] )\n",
        "\n",
        "\n",
        "fig, ax = plt.subplots(1, 2, sharex=True, figsize=(7, 3))\n",
        "\n",
        "ax[0].plot([x_min, x_max], [y_min, y_max])\n",
        "ax[1].plot([x_min, x_max], [y_min, y_max])\n",
        "\n",
        "ax[0].scatter(X_train[y_train==0, 0], X_train[y_train==0, 1], label='class 0', marker='o')\n",
        "ax[0].scatter(X_train[y_train==1, 0], X_train[y_train==1, 1], label='class 1', marker='s')\n",
        "\n",
        "ax[1].scatter(X_test[y_test==0, 0], X_test[y_test==0, 1], label='class 0', marker='o')\n",
        "ax[1].scatter(X_test[y_test==1, 0], X_test[y_test==1, 1], label='class 1', marker='s')\n",
        "\n",
        "ax[1].legend(loc='upper left')\n",
        "plt.show()"
      ]
    },
    {
      "cell_type": "markdown",
      "metadata": {
        "id": "UmlO7CP7P1-4"
      },
      "source": [
        "## High-level implementation using the nn.Module API"
      ]
    },
    {
      "cell_type": "code",
      "execution_count": null,
      "metadata": {
        "id": "fAuwlsNTP1-5"
      },
      "outputs": [],
      "source": [
        "class LogisticRegression3(torch.nn.Module):\n",
        "\n",
        "    def __init__(self, num_features):\n",
        "        super(LogisticRegression3, self).__init__()\n",
        "        self.linear = torch.nn.Linear(num_features, 1)\n",
        "        # initialize weights to zeros here,\n",
        "        # since we used zero weights in the\n",
        "        # manual approach\n",
        "        \n",
        "        self.linear.weight.detach().zero_()\n",
        "        self.linear.bias.detach().zero_()\n",
        "        # Note: the trailing underscore\n",
        "        # means \"in-place operation\" in the context\n",
        "        # of PyTorch\n",
        "        \n",
        "    def forward(self, x):\n",
        "        logits = self.linear(x)\n",
        "        probas = torch.sigmoid(logits)\n",
        "        return probas\n",
        "\n",
        "model = LogisticRegression3(num_features=2).to(device)"
      ]
    },
    {
      "cell_type": "code",
      "execution_count": null,
      "metadata": {
        "id": "te8LJAgmP1-5"
      },
      "outputs": [],
      "source": [
        "##### Define cost function and set up optimizer #####\n",
        "cost_fn = torch.nn.BCELoss(reduction='sum')\n",
        "# average_size=False to match results in\n",
        "# manual approach, where we did not normalize\n",
        "# the cost by the batch size\n",
        "optimizer = torch.optim.SGD(model.parameters(), lr=0.1)"
      ]
    },
    {
      "cell_type": "code",
      "execution_count": null,
      "metadata": {
        "scrolled": true,
        "id": "LZu63L8EP1-6",
        "outputId": "aa905e20-a3b6-48f2-8965-18c14428a763"
      },
      "outputs": [
        {
          "name": "stdout",
          "output_type": "stream",
          "text": [
            "Epoch: 001 | Train ACC: 0.987 | Cost: 5.581\n",
            "Epoch: 002 | Train ACC: 0.987 | Cost: 4.882\n",
            "Epoch: 003 | Train ACC: 1.000 | Cost: 4.381\n",
            "Epoch: 004 | Train ACC: 1.000 | Cost: 3.998\n",
            "Epoch: 005 | Train ACC: 1.000 | Cost: 3.693\n",
            "Epoch: 006 | Train ACC: 1.000 | Cost: 3.443\n",
            "Epoch: 007 | Train ACC: 1.000 | Cost: 3.232\n",
            "Epoch: 008 | Train ACC: 1.000 | Cost: 3.052\n",
            "Epoch: 009 | Train ACC: 1.000 | Cost: 2.896\n",
            "Epoch: 010 | Train ACC: 1.000 | Cost: 2.758\n",
            "\n",
            "Model parameters:\n",
            "  Weights: Parameter containing:\n",
            "tensor([[ 4.2267, -2.9613]], device='cuda:0', requires_grad=True)\n",
            "  Bias: Parameter containing:\n",
            "tensor([0.0994], device='cuda:0', requires_grad=True)\n"
          ]
        }
      ],
      "source": [
        "def comp_accuracy(label_var, pred_probas):\n",
        "    pred_labels = custom_where((pred_probas > 0.5).float(), 1, 0).view(-1)\n",
        "    acc = torch.sum(pred_labels == label_var.view(-1)).float() / label_var.size(0)\n",
        "    return acc\n",
        "\n",
        "\n",
        "num_epochs = 10\n",
        "\n",
        "X_train_tensor = torch.tensor(X_train, dtype=torch.float32, device=device)\n",
        "y_train_tensor = torch.tensor(y_train, dtype=torch.float32, device=device).view(-1, 1)\n",
        "\n",
        "\n",
        "for epoch in range(num_epochs):\n",
        "    \n",
        "    #### Compute outputs ####\n",
        "    out = model(X_train_tensor)\n",
        "    \n",
        "    #### Compute gradients ####\n",
        "    cost = cost_fn(out, y_train_tensor)\n",
        "    optimizer.zero_grad()\n",
        "    cost.backward()\n",
        "    \n",
        "    #### Update weights ####  \n",
        "    optimizer.step()\n",
        "    \n",
        "    #### Logging ####      \n",
        "    pred_probas = model(X_train_tensor)\n",
        "    acc = comp_accuracy(y_train_tensor, pred_probas)\n",
        "    print('Epoch: %03d' % (epoch + 1), end=\"\")\n",
        "    print(' | Train ACC: %.3f' % acc, end=\"\")\n",
        "    print(' | Cost: %.3f' % cost_fn(pred_probas, y_train_tensor))\n",
        "\n",
        "\n",
        "    \n",
        "print('\\nModel parameters:')\n",
        "print('  Weights: %s' % model.linear.weight)\n",
        "print('  Bias: %s' % model.linear.bias)"
      ]
    },
    {
      "cell_type": "markdown",
      "metadata": {
        "id": "BmlAiTtQP1-7"
      },
      "source": [
        "#### Evaluating the Model"
      ]
    },
    {
      "cell_type": "code",
      "execution_count": null,
      "metadata": {
        "id": "iE_BLg7HP1-7",
        "outputId": "9dff3b6b-ae21-473e-caea-153c7af7601d"
      },
      "outputs": [
        {
          "name": "stdout",
          "output_type": "stream",
          "text": [
            "Test set accuracy: 100.00%\n"
          ]
        }
      ],
      "source": [
        "X_test_tensor = torch.tensor(X_test, dtype=torch.float32, device=device)\n",
        "y_test_tensor = torch.tensor(y_test, dtype=torch.float32, device=device)\n",
        "\n",
        "pred_probas = model(X_test_tensor)\n",
        "test_acc = comp_accuracy(y_test_tensor, pred_probas)\n",
        "\n",
        "print('Test set accuracy: %.2f%%' % (test_acc*100))"
      ]
    },
    {
      "cell_type": "code",
      "execution_count": null,
      "metadata": {
        "id": "Nj8MddcaP1-8",
        "outputId": "2fc18a1f-c3ad-48c0-d704-47f2e61cfccb"
      },
      "outputs": [
        {
          "data": {
            "image/png": "[encoded data removed]",
            "text/plain": [
              "<Figure size 504x216 with 2 Axes>"
            ]
          },
          "metadata": {
            "needs_background": "light"
          },
          "output_type": "display_data"
        }
      ],
      "source": [
        "##########################\n",
        "### 2D Decision Boundary\n",
        "##########################\n",
        "\n",
        "w, b = logr.weights, logr.bias\n",
        "\n",
        "x_min = -2\n",
        "y_min = ( (-(w[0] * x_min) - b[0]) \n",
        "          / w[1] )\n",
        "\n",
        "x_max = 2\n",
        "y_max = ( (-(w[0] * x_max) - b[0]) \n",
        "          / w[1] )\n",
        "\n",
        "\n",
        "fig, ax = plt.subplots(1, 2, sharex=True, figsize=(7, 3))\n",
        "ax[0].plot([x_min, x_max], [y_min, y_max])\n",
        "ax[1].plot([x_min, x_max], [y_min, y_max])\n",
        "\n",
        "ax[0].scatter(X_train[y_train==0, 0], X_train[y_train==0, 1], label='class 0', marker='o')\n",
        "ax[0].scatter(X_train[y_train==1, 0], X_train[y_train==1, 1], label='class 1', marker='s')\n",
        "\n",
        "ax[1].scatter(X_test[y_test==0, 0], X_test[y_test==0, 1], label='class 0', marker='o')\n",
        "ax[1].scatter(X_test[y_test==1, 0], X_test[y_test==1, 1], label='class 1', marker='s')\n",
        "\n",
        "ax[1].legend(loc='upper left')\n",
        "plt.show()"
      ]
    },
    {
      "cell_type": "code",
      "execution_count": null,
      "metadata": {
        "id": "g9WKJkNtP1-8",
        "outputId": "d817b1ee-2bf2-4e03-e6ee-cd37c543cae8"
      },
      "outputs": [
        {
          "name": "stdout",
          "output_type": "stream",
          "text": [
            "matplotlib 3.0.2\n",
            "numpy      1.15.4\n",
            "torch      1.0.0\n",
            "\n"
          ]
        }
      ],
      "source": [
        "%watermark -iv"
      ]
    }
  ],
  "metadata": {
    "kernelspec": {
      "display_name": "Python 3",
      "language": "python",
      "name": "python3"
    },
    "language_info": {
      "codemirror_mode": {
        "name": "ipython",
        "version": 3
      },
      "file_extension": ".py",
      "mimetype": "text/x-python",
      "name": "python",
      "nbconvert_exporter": "python",
      "pygments_lexer": "ipython3",
      "version": "3.7.1"
    },
    "toc": {
      "nav_menu": {},
      "number_sections": true,
      "sideBar": true,
      "skip_h1_title": false,
      "title_cell": "Table of Contents",
      "title_sidebar": "Contents",
      "toc_cell": false,
      "toc_position": {},
      "toc_section_display": true,
      "toc_window_display": false
    },
    "colab": {
      "provenance": [],
      "include_colab_link": true
    }
  },
  "nbformat": 4,
  "nbformat_minor": 0
}